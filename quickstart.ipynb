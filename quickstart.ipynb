{
 "cells": [
  {
   "cell_type": "markdown",
   "id": "1f6b562b-c5f6-476d-9bbd-313246c8f55f",
   "metadata": {},
   "source": [
    "# Quickstart Tutorial: Neurodesktop & BIDS Conversion\n",
    "\n",
    "Welcome! This tutorial will guide you through:\n",
    "- Launching Neurodesktop tools\n",
    "- Converting XNAT DICOM data to BIDS format\n",
    "- Running common neuroimaging pipelines (MRIQC, fMRIPrep)\n",
    "\n",
    "## Table of Contents\n",
    "- [1. Intro](#1.-Intro)\n",
    "- [2. Data Conversion](#2.-Data-Conversion)\n",
    "  - [2.1 Install xnat_dcm2bids](#2.1-Install-xnat_dcm2bids)\n",
    "  - [2.2 Important Tools & Links](#2.2-Important-Tools-&-Links)\n",
    "  - [2.3 Configure XNAT Connection](#2.3-Configure-XNAT-Connection)\n",
    "  - [2.4 Download Session List](#2.4-Download-Session-List)\n",
    "  - [2.5 Prepare BIDS Directory](#2.5-Prepare-BIDS-Directory)\n",
    "  - [2.6 Setup Config File](#2.6-Setup-Config-File)\n",
    "  - [2.7 Convert Sessions](#2.7-Convert-Sessions)\n",
    "- [3. Software & Pipelines](#3.-Software-&-Pipelines)\n",
    "  - [3.1 MRIQC](#3.1-MRIQC)\n",
    "  - [3.2 fMRIPrep](#3.2-fMRIPrep)\n",
    "  - [3.3 Preinstalled Software](#3.3-Preinstalled-software)\n",
    "  - [3.4 Loading Software from Neurodesk Repo](#3.4-Loading-software-from-Neurodesk-Repo)\n",
    "  - [3.5 Feel Free to Install New Software](#3.5-Feel-free-to-install-new-software)\n",
    "- [FAQ](#FAQ)\n",
    "  "
   ]
  },
  {
   "cell_type": "markdown",
   "id": "a9a8fbe6-fd65-4016-b6ec-7af9bc5bd7bd",
   "metadata": {},
   "source": [
    "## 1. Intro\n",
    "\n",
    "This tutorial will guide you through launching Neurodesktop tools using Jupyter Notebook, however you can also run those tools in Terminal. Just use the commands below without exclamation mark \"❗\"\n",
    "\n",
    "\n",
    "Start by launching Neurodesktop and choosing one of the following:\n",
    "- **Terminal**\n",
    "- **Jupyter Notebook**\n",
    "- **Remote Desktop (Neurodesktop GUI)**\n",
    "\n",
    "In the Neurodesktop GUI you can run MATLAB, FSL, Freeview, and other programs directly. See [Software](#3.-Software-&-Pipelines) for details."
   ]
  },
  {
   "cell_type": "markdown",
   "id": "18bb23d9-fe0e-4529-9e38-3c9b056b6cea",
   "metadata": {},
   "source": [
    "## 2. Data Conversion"
   ]
  },
  {
   "cell_type": "markdown",
   "id": "c2241641",
   "metadata": {},
   "source": [
    "### 2.1 Install `xnat_dcm2bids`\n",
    "\n",
    "You can install this package on Your own MacOS, Windows, or Linux using pip:\n"
   ]
  },
  {
   "cell_type": "code",
   "execution_count": null,
   "id": "6d94b4d6-6762-4fe8-bf1d-2b0042f66f1c",
   "metadata": {},
   "outputs": [],
   "source": [
    "!pip install https://github.com/nencki-lobi/xnat_dcm2bids/archive/refs/heads/master.zip"
   ]
  },
  {
   "cell_type": "markdown",
   "id": "edec3c43-58b0-4d8c-84fa-148db19cc031",
   "metadata": {
    "jp-MarkdownHeadingCollapsed": true
   },
   "source": [
    "### 2.2 Important Tools & Links\n",
    "   - **xnat_dcm2bids** - downloads data from a selected XNAT session (e.g., `f490f566-2124-46`) and converts it to BIDS format using `dcm2bids`:  \n",
    "`xnat_dcm2bids --bids-dir ~/bids-dir --config ./code/config.json f490f566-2124-46 03 01` \n",
    "   - **dcm2bids_scaffold** - prepares a new BIDS directory  \n",
    "     `dcm2bids_scaffold -o /home/jovyan/bids-dir`\n",
    "   - **xnat-get** - downloads all DICOM files from XNAT  \n",
    "     `xnat-get -p mj_ris -t ./sourcedata`\n",
    "   - **xnat_getcsv** - downloads session list to CSV  \n",
    "     `xnat_getcsv -o mj_ris.csv mj_ris`\n",
    "   - **lobi_script** - run scripts from [lobi-mri-scripts](https://github.com/nencki-lobi/lobi-mri-scripts)  \n",
    "     `lobi_script ls` will display list of available scripts eg.   \n",
    "     `lobi_script run_mriqc.sh 03 ~/bids-dir ~/bids-dir/derivatives/mriqc`\n",
    "\n",
    "Find out more in [xnat_dcm2bids](https://github.com/nencki-lobi/xnat_dcm2bids) repository."
   ]
  },
  {
   "cell_type": "markdown",
   "id": "7785a309",
   "metadata": {},
   "source": [
    "### 2.3 Configure XNAT Connection\n",
    "\n",
    "xnat_dcm2bids tools use specific authentication method. It is neccesarry to initialize the connection for the first time **in Terminal - type `xnat-ls`** and the provide the url `xnat.nencki.edu.pl` and Your credentials.\n",
    "Expected output is a list of all available projects."
   ]
  },
  {
   "cell_type": "markdown",
   "id": "f375ce8a",
   "metadata": {},
   "source": [
    "### 2.4 Download Session List\n",
    "\n",
    "To download list of all available xnat sessions from project \"public\" type:"
   ]
  },
  {
   "cell_type": "code",
   "execution_count": 11,
   "id": "0d93f043",
   "metadata": {},
   "outputs": [
    {
     "name": "stdout",
     "output_type": "stream",
     "text": [
      "/home/jovyan\n",
      "🟢 Data saved to list.csv\n"
     ]
    }
   ],
   "source": [
    "%cd ~\n",
    "!xnat_getcsv -o list.csv public"
   ]
  },
  {
   "cell_type": "code",
   "execution_count": 12,
   "id": "11714d27",
   "metadata": {},
   "outputs": [
    {
     "data": {
      "text/html": [
       "<div>\n",
       "<style scoped>\n",
       "    .dataframe tbody tr th:only-of-type {\n",
       "        vertical-align: middle;\n",
       "    }\n",
       "\n",
       "    .dataframe tbody tr th {\n",
       "        vertical-align: top;\n",
       "    }\n",
       "\n",
       "    .dataframe thead th {\n",
       "        text-align: right;\n",
       "    }\n",
       "</style>\n",
       "<table border=\"1\" class=\"dataframe\">\n",
       "  <thead>\n",
       "    <tr style=\"text-align: right;\">\n",
       "      <th></th>\n",
       "      <th>Subject_ID</th>\n",
       "      <th>subject</th>\n",
       "      <th>session</th>\n",
       "    </tr>\n",
       "    <tr>\n",
       "      <th>MR ID</th>\n",
       "      <th></th>\n",
       "      <th></th>\n",
       "      <th></th>\n",
       "    </tr>\n",
       "  </thead>\n",
       "  <tbody>\n",
       "    <tr>\n",
       "      <th>7c2afbc5-763e-4a</th>\n",
       "      <td>LOBI_fingertapping</td>\n",
       "      <td>NaN</td>\n",
       "      <td>NaN</td>\n",
       "    </tr>\n",
       "    <tr>\n",
       "      <th>tstdtst</th>\n",
       "      <td>test_lobi</td>\n",
       "      <td>NaN</td>\n",
       "      <td>NaN</td>\n",
       "    </tr>\n",
       "  </tbody>\n",
       "</table>\n",
       "</div>"
      ],
      "text/plain": [
       "                          Subject_ID subject session\n",
       "MR ID                                               \n",
       "7c2afbc5-763e-4a  LOBI_fingertapping     NaN     NaN\n",
       "tstdtst                    test_lobi     NaN     NaN"
      ]
     },
     "execution_count": 12,
     "metadata": {},
     "output_type": "execute_result"
    }
   ],
   "source": [
    "#display content of \"list.csv\"\n",
    "import pandas as pd\n",
    "df = pd.read_csv(\"list.csv\", dtype=str, index_col=0)\n",
    "df.head(10)"
   ]
  },
  {
   "cell_type": "markdown",
   "id": "072839e7",
   "metadata": {},
   "source": [
    "### 2.5 Prepare BIDS Directory"
   ]
  },
  {
   "cell_type": "code",
   "execution_count": 2,
   "id": "3733f2ec-e79e-4ad5-b190-ae82f5ba8fc8",
   "metadata": {},
   "outputs": [],
   "source": [
    "bidsdir=\"/home/jovyan/bids-dir\""
   ]
  },
  {
   "cell_type": "code",
   "execution_count": 4,
   "id": "a64ecf23",
   "metadata": {},
   "outputs": [
    {
     "name": "stdout",
     "output_type": "stream",
     "text": [
      "\u001b[38;5;39mINFO    | --- dcm2bids_scaffold start ---\u001b[0m\n",
      "\u001b[38;5;39mINFO    | Running the following command: /home/jovyan/.local/bin/dcm2bids_scaffold -o /home/jovyan/bids-dir\u001b[0m\n",
      "\u001b[38;5;39mINFO    | OS version: Linux-5.15.0-153-generic-x86_64-with-glibc2.39\u001b[0m\n",
      "\u001b[38;5;39mINFO    | Python version: 3.12.11 | packaged by conda-forge | (main, Jun  4 2025, 14:45:31) [GCC 13.3.0]\u001b[0m\n",
      "\u001b[38;5;39mINFO    | dcm2bids version: 3.2.0\u001b[0m\n",
      "\u001b[38;5;39mINFO    | Checking for software update\u001b[0m\n",
      "\u001b[38;5;39mINFO    | Currently using the latest version of dcm2bids.\u001b[0m\n",
      "\u001b[38;5;39mINFO    | The files used to create your BIDS directory were taken from https://github.com/bids-standard/bids-starter-kit. \n",
      "\u001b[0m\n",
      "\u001b[38;5;39mINFO    | Tree representation of /home/jovyan/bids-dir/\u001b[0m\n",
      "\u001b[38;5;39mINFO    | /home/jovyan/bids-dir/\u001b[0m\n",
      "\u001b[38;5;39mINFO    | ├── code/\u001b[0m\n",
      "\u001b[38;5;39mINFO    | ├── derivatives/\u001b[0m\n",
      "\u001b[38;5;39mINFO    | ├── sourcedata/\u001b[0m\n",
      "\u001b[38;5;39mINFO    | ├── tmp_dcm2bids/\u001b[0m\n",
      "\u001b[38;5;39mINFO    | │   └── log/\u001b[0m\n",
      "\u001b[38;5;39mINFO    | │       └── scaffold_20251013-162658.log\u001b[0m\n",
      "\u001b[38;5;39mINFO    | ├── .bidsignore\u001b[0m\n",
      "\u001b[38;5;39mINFO    | ├── CHANGES\u001b[0m\n",
      "\u001b[38;5;39mINFO    | ├── dataset_description.json\u001b[0m\n",
      "\u001b[38;5;39mINFO    | ├── participants.json\u001b[0m\n",
      "\u001b[38;5;39mINFO    | ├── participants.tsv\u001b[0m\n",
      "\u001b[38;5;39mINFO    | └── README\u001b[0m\n",
      "\u001b[38;5;39mINFO    | Log file saved at /home/jovyan/bids-dir/tmp_dcm2bids/log/scaffold_20251013-162658.log\u001b[0m\n",
      "\u001b[38;5;39mINFO    | --- dcm2bids_scaffold end ---\u001b[0m\n"
     ]
    }
   ],
   "source": [
    "!dcm2bids_scaffold -o {bidsdir}"
   ]
  },
  {
   "cell_type": "code",
   "execution_count": null,
   "id": "d3f4ac2f",
   "metadata": {},
   "outputs": [
    {
     "name": "stdout",
     "output_type": "stream",
     "text": [
      "/home/jovyan/bids-dir\n"
     ]
    }
   ],
   "source": [
    "%cd {bidsdir}"
   ]
  },
  {
   "cell_type": "code",
   "execution_count": null,
   "id": "383dfb35",
   "metadata": {},
   "outputs": [
    {
     "name": "stdout",
     "output_type": "stream",
     "text": [
      "CHANGES\n",
      "README\n",
      "code\n",
      "dataset_description.json\n",
      "derivatives\n",
      "participants.json\n",
      "participants.tsv\n",
      "sourcedata\n",
      "sub-03\n",
      "tmp_dcm2bids\n"
     ]
    }
   ],
   "source": [
    "!ls -1 {bidsdir}"
   ]
  },
  {
   "cell_type": "markdown",
   "id": "3281ab12-a797-4af6-aa65-0940f30c615c",
   "metadata": {},
   "source": [
    "### 2.6 Setup Config File\n",
    "\n",
    "Usually we provide You with the customized configuration for dcm2bids. Pre-cooked configurations are available in the [lobi-mri-scripts repository](https://github.com/nencki-lobi/lobi-mri-scripts/tree/main/dcm2bids). If You have already cloned the repository (run lobi_script), then You can link one of the configuration files as follows:\n",
    "\n",
    "``ln -sf ~/lobi-mri-scripts/dcm2bids/mjris.json {bidsdir}/code/config.json``\n",
    "\n",
    "Below is the example of a configuration for a basic experiment consisting of T1w, task fmri and fieldmaps. It's rather straighforward."
   ]
  },
  {
   "cell_type": "code",
   "execution_count": 5,
   "id": "212e1dad",
   "metadata": {},
   "outputs": [
    {
     "name": "stdout",
     "output_type": "stream",
     "text": [
      "Writing /home/jovyan/bids-dir/code/config.json\n"
     ]
    }
   ],
   "source": [
    "%%writefile {bidsdir}/code/config.json\n",
    "{\n",
    "  \"descriptions\": [\n",
    "    {\n",
    "      \"datatype\": \"anat\",\n",
    "      \"suffix\": \"T1w\",\n",
    "      \"criteria\": {\n",
    "        \"SeriesDescription\": \"anat_t1w\"\n",
    "      }\n",
    "    },\n",
    "    {\n",
    "      \"id\": \"fmri\",\n",
    "      \"datatype\": \"func\",\n",
    "      \"suffix\": \"bold\",\n",
    "      \"criteria\": {\n",
    "        \"SeriesDescription\": \"task-*\"\n",
    "      }\n",
    "    },\n",
    "    {\n",
    "      \"datatype\": \"fmap\",\n",
    "      \"suffix\": \"epi\",\n",
    "      \"criteria\": {\n",
    "        \"SeriesDescription\": \"SpinEchoFieldMap*\"\n",
    "      },\n",
    "      \"sidecar_changes\": {\n",
    "        \"intendedFor\": [\"fmri\"]\n",
    "      }\n",
    "    }\n",
    "  ]\n",
    "}\n"
   ]
  },
  {
   "cell_type": "markdown",
   "id": "feeff2ec",
   "metadata": {},
   "source": [
    "### 2.7 Convert Sessions\n",
    "\n",
    "**Single session example:**\n",
    "- XNAT session ID: `tstdtst`\n",
    "- Subject: `03`\n",
    "- Session: `01`\n"
   ]
  },
  {
   "cell_type": "code",
   "execution_count": null,
   "id": "8f184062",
   "metadata": {},
   "outputs": [],
   "source": [
    "!xnat_dcm2bids --output-dir {bidsdir} --config ./code/config.json tstdtst 03 01"
   ]
  },
  {
   "cell_type": "markdown",
   "id": "76d0f179",
   "metadata": {},
   "source": [
    "**Multiple sessions from CSV:**\n"
   ]
  },
  {
   "cell_type": "code",
   "execution_count": 14,
   "id": "a72f98ec",
   "metadata": {},
   "outputs": [
    {
     "name": "stdout",
     "output_type": "stream",
     "text": [
      "xnat_dcm2bids --config ./code/config.json MR ID subject 1\n",
      "xnat_dcm2bids --config ./code/config.json 7c2afbc5-763e-4a  1\n",
      "xnat_dcm2bids --config ./code/config.json tstdtst  1\n"
     ]
    }
   ],
   "source": [
    "#\"echo\" will print the command without running it. Remove \"echo\" to execute.\n",
    "!while IFS=',' read -r id _ sub ses _; do \\\n",
    "  echo xnat_dcm2bids --config ./code/config.json \"$id\" \"$sub\" 1; \\\n",
    "done < ~/list.csv"
   ]
  },
  {
   "cell_type": "markdown",
   "id": "67f61766-9862-43b2-b4d7-b0a4c0b42a91",
   "metadata": {},
   "source": [
    "## 3. Software & Pipelines"
   ]
  },
  {
   "cell_type": "code",
   "execution_count": 15,
   "id": "534930b6-ed9c-46b8-952e-6561d38b1726",
   "metadata": {},
   "outputs": [
    {
     "name": "stdout",
     "output_type": "stream",
     "text": [
      "Scripts in /home/jovyan/lobi-mri-scripts:\n",
      "freesurfer_init.sh\n",
      "run_dcm2bids_noauto.sh\n",
      "run_fmriprep_kids_alicja.sh\n",
      "run_fmriprep_min.sh\n",
      "run_mriqc.sh\n"
     ]
    }
   ],
   "source": [
    "!lobi_script ls"
   ]
  },
  {
   "cell_type": "markdown",
   "id": "e617fc03-5278-4f92-bca8-22f327d35cf3",
   "metadata": {},
   "source": [
    "### 3.1 MRIQC\n",
    "\n",
    "Run MRIQC for a single subject:\n"
   ]
  },
  {
   "cell_type": "code",
   "execution_count": null,
   "id": "0a0e62df-f105-4e66-9cb8-e19ed876aa0e",
   "metadata": {},
   "outputs": [],
   "source": [
    "!lobi_script run_mriqc.sh 03 {bidsdir} {bidsdir}/derivatives/mriqc"
   ]
  },
  {
   "cell_type": "markdown",
   "id": "aeadbb6e-7f75-4ede-91d4-3e278340206c",
   "metadata": {},
   "source": [
    "### 3.2 fMRIPrep\n",
    "\n",
    "Run fMRIPrep for multiple subjects from CSV:\n"
   ]
  },
  {
   "cell_type": "code",
   "execution_count": null,
   "id": "40df42da-cd1f-4c40-aa47-58d270c91f2c",
   "metadata": {},
   "outputs": [],
   "source": [
    "!tail -n +2 ~/mj_ris.csv | parallel --colsep ',' echo lobi_script run_fmriprep_min.sh {{3}} {bidsdir} {bidsdir}/derivatives/fmriprep"
   ]
  },
  {
   "cell_type": "markdown",
   "id": "04778c65-83e4-4a78-b417-6e9d65a12de3",
   "metadata": {},
   "source": [
    "### 3.3 Preinstalled software\n",
    "\n",
    "Graphical tools do not work efficiently via `module load` from Neurodesktop repository. Instead, follow these steps to make it work from local:\n",
    "- **MATLAB**: run in Terminal with `./matlab`\n",
    "- **FSL**: configure first with `source ~/shared_storage/fsl.sh`, then run eg. `fsleyes`"
   ]
  },
  {
   "cell_type": "markdown",
   "id": "21bbbb8e-23f5-405c-a287-68beddaecff2",
   "metadata": {},
   "source": [
    "### 3.4 Loading software from Neurodesk Repo\n",
    "\n",
    "Other programs including graphical viewers such as Freeview, mrtrix etc. are not available locally and should be run in Terminal from Neurodesktop via `module load XXX` or shortly `ml XXX` eg. `ml ants`. In Jupyter the syntax is as follows:"
   ]
  },
  {
   "cell_type": "code",
   "execution_count": 2,
   "id": "eca66377-47fa-4782-8bf2-cb243c6baf32",
   "metadata": {},
   "outputs": [],
   "source": [
    "import module\n",
    "await module.load('ants')"
   ]
  },
  {
   "cell_type": "code",
   "execution_count": null,
   "id": "8355759d-0233-49fe-9489-2fc9ae7c6b78",
   "metadata": {
    "scrolled": true
   },
   "outputs": [],
   "source": [
    "!antsRegistration"
   ]
  },
  {
   "cell_type": "markdown",
   "id": "d58945b6-d369-494b-913a-ec99e5bbbf43",
   "metadata": {},
   "source": [
    "### 3.5 Feel free to install new software\n",
    "\n",
    "Use `sudo apt update; sudo apt install XXX` to install any program You want. You don't need to ask :-)  \n",
    "The software will became unavailable after shutdown of the environment."
   ]
  },
  {
   "cell_type": "markdown",
   "id": "1655db3e-f977-4e44-a3e2-ae9942057446",
   "metadata": {},
   "source": [
    "# FAQ\n",
    "\n",
    "1. **Where are my files?**\n",
    "\n",
    "> All files are stored on the DRAGON storage system in Mikołajki. No matter whether you work in `$HOME`, `./shared_storage`, or use your dedicated disk — your files will be secure and available at full speed in each case.\n",
    "\n",
    "2. **How can I upload my own files?**\n",
    "\n",
    "> * Use drag & drop for multiple files\n",
    "> * Use `xnat_dcm2bids`, etc., to download DICOMs from XNAT\n",
    "> * Use a dedicated storage disk, which can be accessed both from Neurodesk and from your personal computer.\n",
    "\n",
    "3. **Where should I store my files?**\n",
    "\n",
    "> * The `$HOME` directory (1 TB) is dedicated to your personal needs. No one except you and the administrator can access or delete files stored there.\n",
    "> * The `./shared_storage` directory (5 TB) is dedicated to collaboration and sharing data between users. Anyone can access or delete files stored there.\n",
    "> * Dedicated directories may be created upon request. See below for how to request a dedicated drive or home folder.\n",
    "\n",
    "4. **I want a dedicated disk for my research group project. How do I request it?**\n",
    "\n",
    "> You need to submit a request via the Helpdesk. Please provide:\n",
    ">\n",
    "> * **Location → DRAGON**\n",
    "> * Lab ID (e.g., N601, N417)\n",
    "> * Name of the PI and all members\n",
    "> * Project name\n",
    "> * Required size (in TB)\n",
    ">\n",
    "> Your disk will be accessible from Neurodesk and any other computer on the local network.\n",
    "\n",
    "5. **How can I access my dedicated disk?**\n",
    "\n",
    "> You can access the files using standard protocols from Neurodesk as well as from other computers in the Nencki network. To mount your dedicated drive in Neurodesk, follow these steps:\n",
    "> 1) In `$HOME`, create a file named `cifs_mounts.conf`.\n",
    "> 2) In the file, provide the relevant information:\n",
    ">```\n",
    ">//dragon.nencki.edu.pl/417-maestro/PROJECT,PROJECT,USERNAME@nencki.ibd, PASSWORD\n",
    ">```\n",
    "> **Do not use spaces** or other irrelevant characters!  The second PROJECT is the target directory in Your workspace.\n",
    "> 4) Apply the changes: **File → Hub Control → Stop and Start**\n",
    "> 5) You should now see the new directory `PROJECT` in `$HOME`.\n",
    "\n",
    "6. **What happens if I shut down or restart the environment?**\n",
    "\n",
    "> Don’t worry — your data will be preserved. However, all installed programs will be removed because a fresh version of Neurodesktop will be loaded.\n",
    "\n",
    "7. **How can I access HTML report from mriqc and fmriprep?**\n",
    "\n",
    "> You can start http server in the directory consisting Your html files as usual using python ``python -m http.server 8000``. You will be able to access the server via Jupyter's proxy at [neurodesk.nencki.edu.pl/user/YOUR_NAME/proxy/8000/](https://neurodesk.nencki.edu.pl/user/YOUR_NAME/proxy/8000/). Mind the ending **slash** in the URL.\n",
    "\n",
    "8. **Where I can find more information about the new tools?**\n",
    "\n",
    "> Check out the Neurodesktop website and tutorials: [https://neurodesk.org/example-notebooks/intro.html](https://neurodesk.org/example-notebooks/intro.html)  \n",
    "> Visit our GitHub repositories:\n",
    "> * [https://github.com/nencki-lobi/lobi-mri-scripts](https://github.com/nencki-lobi/lobi-mri-scripts)\n",
    "> * [https://github.com/nencki-lobi/xnat_dcm2bids](https://github.com/nencki-lobi/xnat_dcm2bids)\n",
    "\n",
    "\n"
   ]
  },
  {
   "cell_type": "code",
   "execution_count": null,
   "id": "2ba02167-c117-4bba-98d5-1a6f6e8d8f5e",
   "metadata": {},
   "outputs": [],
   "source": []
  }
 ],
 "metadata": {
  "kernelspec": {
   "display_name": "Python [conda env:base] *",
   "language": "python",
   "name": "conda-base-py"
  },
  "language_info": {
   "codemirror_mode": {
    "name": "ipython",
    "version": 3
   },
   "file_extension": ".py",
   "mimetype": "text/x-python",
   "name": "python",
   "nbconvert_exporter": "python",
   "pygments_lexer": "ipython3",
   "version": "3.12.11"
  }
 },
 "nbformat": 4,
 "nbformat_minor": 5
}
