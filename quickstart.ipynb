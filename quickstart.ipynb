{
 "cells": [
  {
   "cell_type": "markdown",
   "id": "1f6b562b-c5f6-476d-9bbd-313246c8f55f",
   "metadata": {},
   "source": [
    "# Quickstart Tutorial: Neurodesktop & BIDS Conversion\n",
    "\n",
    "Welcome! This tutorial will guide you through:\n",
    "- Launching Neurodesktop tools\n",
    "- Converting XNAT DICOM data to BIDS format\n",
    "- Running common neuroimaging pipelines (MRIQC, fMRIPrep)\n",
    "\n",
    "## Table of Contents\n",
    "- [1️⃣ Intro](#Intro)\n",
    "- [2️⃣ Data Conversion](#Conversion)\n",
    "  - [2.1 Installing xnat_dcm2bids](#Install)\n",
    "  - [2.2 Important Tools & Links](#Tools)\n",
    "  - [2.3 XNAT Connection](#XNAT-Connection)\n",
    "  - [2.4 Downloading Session List](#Download-Sessions)\n",
    "  - [2.5 Preparing BIDS Directory](#Prepare-BIDS)\n",
    "  - [2.6 Config File Setup](#Config)\n",
    "  - [2.7 Converting Sessions](#Convert-Sessions)\n",
    "- [3️⃣ Software & Pipelines](#Software)\n",
    "  - [3.1 MRIQC](#MRIQC)\n",
    "  - [3.2 fMRIPrep](#fMRIPrep)\n",
    "  - [3.3 MATLAB & FSL](#Preinstalled)\n",
    "  - [3.4 Other Programs](#Other-Programs)\n",
    "\n",
    "In Jupyter click **View - Table of Contents** to open the interactive list of available sections.\n",
    "  "
   ]
  },
  {
   "cell_type": "markdown",
   "id": "a9a8fbe6-fd65-4016-b6ec-7af9bc5bd7bd",
   "metadata": {},
   "source": [
    "## 1️⃣ Intro <a id='Intro'></a>\n",
    "\n",
    "This tutorial will guide you through launching Neurodesktop tools using Jupyter Notebook, however you can also run those tools in Terminal. Just use the commands below without exclamation mark \"❗\"\n",
    "\n",
    "\n",
    "Start by launching Neurodesktop and choosing one of the following:\n",
    "- **Terminal**\n",
    "- **Jupyter Notebook**\n",
    "- **Remote Desktop (Neurodesktop GUI)**\n",
    "\n",
    "In the Neurodesktop GUI you can run MATLAB, FSL, Freeview, and other programs directly. See [Software](#Software) for details."
   ]
  },
  {
   "cell_type": "markdown",
   "id": "18bb23d9-fe0e-4529-9e38-3c9b056b6cea",
   "metadata": {},
   "source": [
    "## 2️⃣ Data Conversion <a id='Conversion'></a>"
   ]
  },
  {
   "cell_type": "markdown",
   "id": "c2241641",
   "metadata": {},
   "source": [
    "### 2.1 Install `xnat_dcm2bids` <a id='Install'></a>\n",
    "\n",
    "You can install this package on MacOS, Windows, or Linux:\n"
   ]
  },
  {
   "cell_type": "code",
   "execution_count": null,
   "id": "8881490f",
   "metadata": {},
   "outputs": [],
   "source": [
    "!pip install --force-reinstall https://github.com/nencki-lobi/xnat_dcm2bids/archive/refs/heads/master.zip > /dev/null 2>&1"
   ]
  },
  {
   "cell_type": "markdown",
   "id": "edec3c43-58b0-4d8c-84fa-148db19cc031",
   "metadata": {},
   "source": [
    "### 2.2 Important Tools & Links <a id='Tools'></a>\n",
    "   - **xnat_dcm2bids** - downloads data from a selected XNAT session (e.g., `f490f566-2124-46`) and converts it to BIDS format using `dcm2bids`:  \n",
    "`xnat_dcm2bids --bids-dir ~/bids-dir --config ./code/config.json f490f566-2124-46 03 01` \n",
    "   - **dcm2bids_scaffold** - prepares a new BIDS directory  \n",
    "     `dcm2bids_scaffold -o /home/jovyan/bids-dir`\n",
    "   - **xnat-get** - downloads all DICOM files from XNAT  \n",
    "     `xnat-get -p mj_ris -t ./sourcedata`\n",
    "   - **xnat_getcsv** - downloads session list to CSV  \n",
    "     `xnat_getcsv mj_ris.csv mj_ris`\n",
    "   - **lobi_script** - run scripts from [lobi-mri-scripts](https://github.com/nencki-lobi/lobi-mri-scripts)  \n",
    "     `lobi_script ls` will display list of available scripts eg.   \n",
    "     `lobi_script run_mriqc.sh 03 ~/bids-dir ~/bids-dir/derivatives/mriqc`\n",
    "\n",
    "Find out more in [xnat_dcm2bids repository](https://github.com/nencki-lobi/xnat_dcm2bids)"
   ]
  },
  {
   "cell_type": "markdown",
   "id": "7785a309",
   "metadata": {},
   "source": [
    "### 2.3 Configure XNAT Connection <a id='XNAT-Connection'></a>\n",
    "\n",
    "xnat_dcm2bids tools use specific authentication method. It is neccesarry to initialize the connection for the first time in Terminal - type `xnat-get` and the provide the url \"xnat.nencki.edu.pl\" and Your credentials.\n",
    "Expected output ✅:\n",
    "```\n",
    "ERROR! project_id (\"-p\") must be provided to use empty IDs string\n",
    "```"
   ]
  },
  {
   "cell_type": "markdown",
   "id": "f375ce8a",
   "metadata": {},
   "source": [
    "### 2.4 Download Session List <a id='Download-Sessions'></a>"
   ]
  },
  {
   "cell_type": "code",
   "execution_count": null,
   "id": "0d93f043",
   "metadata": {},
   "outputs": [
    {
     "name": "stdout",
     "output_type": "stream",
     "text": [
      "/home/jovyan\n",
      "🟢 Data saved to mj_ris.csv\n"
     ]
    }
   ],
   "source": [
    "%cd ~\n",
    "!xnat_getcsv -o mj_ris.csv mj_ris"
   ]
  },
  {
   "cell_type": "code",
   "execution_count": null,
   "id": "11714d27",
   "metadata": {},
   "outputs": [],
   "source": [
    "#display content of \"mj_ris.csv\"\n",
    "import pandas as pd\n",
    "df = pd.read_csv(\"mj_ris.csv\", dtype=str, index_col=0)\n",
    "df.head(10)"
   ]
  },
  {
   "cell_type": "markdown",
   "id": "072839e7",
   "metadata": {},
   "source": [
    "### 2.5 Prepare BIDS Directory <a id='Prepare-BIDS'></a>"
   ]
  },
  {
   "cell_type": "code",
   "execution_count": null,
   "id": "3733f2ec-e79e-4ad5-b190-ae82f5ba8fc8",
   "metadata": {},
   "outputs": [],
   "source": [
    "bidsdir=\"/home/jovyan/bids-dir\""
   ]
  },
  {
   "cell_type": "code",
   "execution_count": null,
   "id": "a64ecf23",
   "metadata": {},
   "outputs": [],
   "source": [
    "!dcm2bids_scaffold -o {bidsdir}"
   ]
  },
  {
   "cell_type": "code",
   "execution_count": null,
   "id": "d3f4ac2f",
   "metadata": {},
   "outputs": [
    {
     "name": "stdout",
     "output_type": "stream",
     "text": [
      "/home/jovyan/bids-dir\n"
     ]
    }
   ],
   "source": [
    "%cd {bidsdir}"
   ]
  },
  {
   "cell_type": "code",
   "execution_count": null,
   "id": "383dfb35",
   "metadata": {},
   "outputs": [
    {
     "name": "stdout",
     "output_type": "stream",
     "text": [
      "CHANGES\n",
      "README\n",
      "code\n",
      "dataset_description.json\n",
      "derivatives\n",
      "participants.json\n",
      "participants.tsv\n",
      "sourcedata\n",
      "sub-03\n",
      "tmp_dcm2bids\n"
     ]
    }
   ],
   "source": [
    "!ls -1 {bidsdir}"
   ]
  },
  {
   "cell_type": "markdown",
   "id": "3281ab12-a797-4af6-aa65-0940f30c615c",
   "metadata": {},
   "source": [
    "### 2.6 Setup Config File <a id='Config'></a>\n",
    "\n",
    "You can either prepare config file on Your own or ask us to provide one. Some examples are available in the [lobi-mri-scripts repository](https://github.com/nencki-lobi/lobi-mri-scripts/tree/main/dcm2bids). If You have already cloned the repository, then You can link one of the configuration files as follows."
   ]
  },
  {
   "cell_type": "code",
   "execution_count": null,
   "id": "212e1dad",
   "metadata": {},
   "outputs": [],
   "source": [
    "!ln -sf ~/lobi-mri-scripts/dcm2bids/mjris.json {bidsdir}/code/config.json"
   ]
  },
  {
   "cell_type": "markdown",
   "id": "feeff2ec",
   "metadata": {},
   "source": [
    "### 2.7 Convert Sessions <a id='Convert-Sessions'></a>\n",
    "\n",
    "**Single session example:**\n",
    "- XNAT session ID: `f490f566-2124-46`\n",
    "- Subject: `03`\n",
    "- Session: `01`\n"
   ]
  },
  {
   "cell_type": "code",
   "execution_count": null,
   "id": "8f184062",
   "metadata": {},
   "outputs": [],
   "source": [
    "!xnat_dcm2bids --output-dir {bidsdir} --config ./code/config.json f490f566-2124-46 03 01"
   ]
  },
  {
   "cell_type": "markdown",
   "id": "76d0f179",
   "metadata": {},
   "source": [
    "**Multiple sessions from CSV:**\n"
   ]
  },
  {
   "cell_type": "code",
   "execution_count": 5,
   "id": "a72f98ec",
   "metadata": {},
   "outputs": [
    {
     "name": "stdout",
     "output_type": "stream",
     "text": [
      "/bin/bash: line 1: /home/jovyan/mj_ris.csv: No such file or directory\n"
     ]
    }
   ],
   "source": [
    "#\"echo\" will print the command without running it. Remove \"echo\" to execute.\n",
    "!while IFS=',' read -r id _ sub ses _; do \\\n",
    "  echo xnat-dcm2bids --config ./code/config.json \"$id\" \"$sub\" 1; \\\n",
    "done < ~/mj_ris.csv"
   ]
  },
  {
   "cell_type": "markdown",
   "id": "67f61766-9862-43b2-b4d7-b0a4c0b42a91",
   "metadata": {},
   "source": [
    "## 3️⃣ Software & Pipelines <a id='Software'></a>"
   ]
  },
  {
   "cell_type": "markdown",
   "id": "e617fc03-5278-4f92-bca8-22f327d35cf3",
   "metadata": {},
   "source": [
    "### 3.1 MRIQC <a id='MRIQC'></a>\n",
    "\n",
    "Run MRIQC for a single subject:\n"
   ]
  },
  {
   "cell_type": "code",
   "execution_count": null,
   "id": "0a0e62df-f105-4e66-9cb8-e19ed876aa0e",
   "metadata": {},
   "outputs": [],
   "source": [
    "!lobi_script run_mriqc.sh 03 {bidsdir} {bidsdir}/derivatives/mriqc"
   ]
  },
  {
   "cell_type": "markdown",
   "id": "aeadbb6e-7f75-4ede-91d4-3e278340206c",
   "metadata": {},
   "source": [
    "### 3.2 fMRIPrep <a id='fMRIPrep'></a>\n",
    "\n",
    "Run fMRIPrep for multiple subjects from CSV:\n"
   ]
  },
  {
   "cell_type": "code",
   "execution_count": null,
   "id": "40df42da-cd1f-4c40-aa47-58d270c91f2c",
   "metadata": {},
   "outputs": [],
   "source": [
    "!tail -n +2 ~/mj_ris.csv | parallel --colsep ',' echo lobi_script run_fmriprep_min.sh {{3}} {bidsdir} {bidsdir}/derivatives/fmriprep"
   ]
  },
  {
   "cell_type": "markdown",
   "id": "04778c65-83e4-4a78-b417-6e9d65a12de3",
   "metadata": {},
   "source": [
    "### 3.3 Preinstalled software <a id='Preinstalled'></a>\n",
    "\n",
    "Graphical tools do not work efficiently via `module load` from Neurodesktop repository. Instead, follow these steps to make it work from local:\n",
    "- **MATLAB**: run in Terminal with `./matlab`\n",
    "- **FSL**: configure first with `source ~/shared_storage/fsl.sh`, then run eg. `fsleyes`"
   ]
  },
  {
   "cell_type": "markdown",
   "id": "21bbbb8e-23f5-405c-a287-68beddaecff2",
   "metadata": {},
   "source": [
    "### 3.4 Other programs \n",
    "\n",
    "Other programs including graphical viewers such as Freeview, mrtrix etc. are not available locally and should be run from Neurodesktop via `module load` or `ml` eg. `ml ants` and in Jupyter as follows:"
   ]
  },
  {
   "cell_type": "code",
   "execution_count": 2,
   "id": "eca66377-47fa-4782-8bf2-cb243c6baf32",
   "metadata": {},
   "outputs": [],
   "source": [
    "import module\n",
    "await module.load('ants')"
   ]
  },
  {
   "cell_type": "code",
   "execution_count": null,
   "id": "8355759d-0233-49fe-9489-2fc9ae7c6b78",
   "metadata": {
    "scrolled": true
   },
   "outputs": [],
   "source": [
    "!antsRegistration"
   ]
  }
 ],
 "metadata": {
  "kernelspec": {
   "display_name": "Python [conda env:base] *",
   "language": "python",
   "name": "conda-base-py"
  },
  "language_info": {
   "codemirror_mode": {
    "name": "ipython",
    "version": 3
   },
   "file_extension": ".py",
   "mimetype": "text/x-python",
   "name": "python",
   "nbconvert_exporter": "python",
   "pygments_lexer": "ipython3",
   "version": "3.12.11"
  }
 },
 "nbformat": 4,
 "nbformat_minor": 5
}
