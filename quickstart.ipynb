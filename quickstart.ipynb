{
 "cells": [
  {
   "cell_type": "markdown",
   "id": "c2241641",
   "metadata": {},
   "source": [
    "# 📦 Instalacja pakietu `xnat_dcm2bids`"
   ]
  },
  {
   "cell_type": "code",
   "execution_count": 82,
   "id": "8881490f",
   "metadata": {},
   "outputs": [],
   "source": [
    "!pip install --force-reinstall https://github.com/nencki-lobi/xnat_dcm2bids/archive/refs/heads/master.zip > /dev/null 2>&1"
   ]
  },
  {
   "cell_type": "markdown",
   "id": "edec3c43-58b0-4d8c-84fa-148db19cc031",
   "metadata": {},
   "source": [
    "# Spis rzeczy:\n",
    "\n",
    "1. [dcm2bids](https://unfmontreal.github.io/Dcm2Bids/)\n",
    "    - dcm2bids_scaffold - przygotowuje nowy katalog BIDS  \n",
    "      `dcm2bids_scaffold -o /home/jovyan/bids-dir`\n",
    "    - dcm2bids - konwersja i sortowanie zgodnie z BIDS  \n",
    "      `dcm2bids -c config.json -p 01 -s 01 -o ./ -d ./sourcedata/12345678`\n",
    "2. [xnat-utils](https://github.com/Australian-Imaging-Service/xnatutils)\n",
    "    - xnat-get - pobiera wszystkie pliki z XNAT'a w formacie DICOM  \n",
    "      `xnat-get -p mj_ris -t ./sourcedata`\n",
    "3. LOBI scripts & wrappers\n",
    "    - xnat_getcsv - pobiera listę sesji z XNATa do CSV   \n",
    "      `xnat_getcsv mj_ris.csv mj_ris`\n",
    "    - xnat_dcm2bids - wrapper dla xnat-get & dcm2bids; pobiera i konwertuje dane z XNAT do BIDS  \n",
    "      `xnat_dcm2bids --bids-dir ~/bids-dir --config ./code/config.json f490f566-2124-46 03 01`\n",
    "    - lobi_script - skrót to uruchamiania skryptów z repozytorium [lobi-mri-scripts](https://github.com/nencki-lobi/lobi-mri-scripts)  \n",
    "      `lobi_script run_mriqc.sh 03 ~/bids-dir ~/bids-dir/derivatives/mriqc`\n",
    "\n",
    "\n"
   ]
  },
  {
   "cell_type": "markdown",
   "id": "7785a309",
   "metadata": {},
   "source": [
    "# 🔐 Konfiguracja połączenia z XNAT\n",
    "\n",
    "Przejdź do okienka Terminala i wpisz `xnat-get`, żeby skonfigurować połączenie z XNAT.  \n",
    "\n",
    "Powinno się pojawić `ERROR! project_id (\"-p\") must be provided to use empty IDs string`"
   ]
  },
  {
   "cell_type": "markdown",
   "id": "f375ce8a",
   "metadata": {},
   "source": [
    "# 📥 Pobranie listy sesji z projektu XNAT"
   ]
  },
  {
   "cell_type": "code",
   "execution_count": 83,
   "id": "0d93f043",
   "metadata": {},
   "outputs": [
    {
     "name": "stdout",
     "output_type": "stream",
     "text": [
      "/home/jovyan\n",
      "🟢 Data saved to mj_ris.csv\n"
     ]
    }
   ],
   "source": [
    "%cd ~\n",
    "!xnat_getcsv mj_ris.csv mj_ris"
   ]
  },
  {
   "cell_type": "code",
   "execution_count": null,
   "id": "11714d27",
   "metadata": {},
   "outputs": [],
   "source": [
    "import pandas as pd\n",
    "df = pd.read_csv(\"mj_ris.csv\",dtype=str,index)\n",
    "df.head(10)"
   ]
  },
  {
   "cell_type": "markdown",
   "id": "072839e7",
   "metadata": {},
   "source": [
    "# 🏗️ Przygotowanie struktury katalogów BIDS"
   ]
  },
  {
   "cell_type": "code",
   "execution_count": 94,
   "id": "3733f2ec-e79e-4ad5-b190-ae82f5ba8fc8",
   "metadata": {},
   "outputs": [],
   "source": [
    "bidsdir=\"/home/jovyan/bids-dir\""
   ]
  },
  {
   "cell_type": "code",
   "execution_count": null,
   "id": "a64ecf23",
   "metadata": {},
   "outputs": [],
   "source": [
    "!dcm2bids_scaffold -o {bidsdir}"
   ]
  },
  {
   "cell_type": "code",
   "execution_count": 96,
   "id": "d3f4ac2f",
   "metadata": {},
   "outputs": [
    {
     "name": "stdout",
     "output_type": "stream",
     "text": [
      "/home/jovyan/bids-dir\n"
     ]
    }
   ],
   "source": [
    "%cd {bidsdir}"
   ]
  },
  {
   "cell_type": "code",
   "execution_count": 97,
   "id": "383dfb35",
   "metadata": {},
   "outputs": [
    {
     "name": "stdout",
     "output_type": "stream",
     "text": [
      "CHANGES\n",
      "README\n",
      "code\n",
      "dataset_description.json\n",
      "derivatives\n",
      "participants.json\n",
      "participants.tsv\n",
      "sourcedata\n",
      "sub-03\n",
      "tmp_dcm2bids\n"
     ]
    }
   ],
   "source": [
    "!ls -1 {bidsdir}"
   ]
  },
  {
   "cell_type": "markdown",
   "id": "3281ab12-a797-4af6-aa65-0940f30c615c",
   "metadata": {},
   "source": [
    "# Skopiowanie gotowej konfiguracji dla dcm2bids"
   ]
  },
  {
   "cell_type": "code",
   "execution_count": 98,
   "id": "212e1dad",
   "metadata": {},
   "outputs": [],
   "source": [
    "!ln -sf ~/lobi-mri-scripts/dcm2bids/mjris.json {bidsdir}/code/config.json"
   ]
  },
  {
   "cell_type": "markdown",
   "id": "feeff2ec",
   "metadata": {},
   "source": [
    "# ▶️ Przetworzenie jednej sesji\n",
    "\n",
    "xnat session id: `f490f566-2124-46`  \n",
    "subject: `03`  \n",
    "session: `01`\n"
   ]
  },
  {
   "cell_type": "code",
   "execution_count": null,
   "id": "8f184062",
   "metadata": {},
   "outputs": [],
   "source": [
    "!xnat_dcm2bids --bids-dir {bidsdir} --config ./code/config.json f490f566-2124-46 03 01"
   ]
  },
  {
   "cell_type": "markdown",
   "id": "76d0f179",
   "metadata": {},
   "source": [
    "# 🔁 Przetworzenie wielu sesji z CSV"
   ]
  },
  {
   "cell_type": "code",
   "execution_count": null,
   "id": "a72f98ec",
   "metadata": {},
   "outputs": [],
   "source": [
    "!while IFS=',' read -r id _ sub ses _; do \\\n",
    "  echo xnat-dcm2bids --config ./code/config.json \"$id\" \"$sub\" 1; \\\n",
    "done < ~/mj_ris.csv"
   ]
  },
  {
   "cell_type": "markdown",
   "id": "e617fc03-5278-4f92-bca8-22f327d35cf3",
   "metadata": {},
   "source": [
    "# 🔁 Uruchomienie skryptów mriqc, fmriprep etc.\n",
    "\n",
    "Uwaga! Wymagane jest środowisko neurodesk (Calcus, Mikołajki ew. neurodesktop)."
   ]
  },
  {
   "cell_type": "code",
   "execution_count": null,
   "id": "0a0e62df-f105-4e66-9cb8-e19ed876aa0e",
   "metadata": {},
   "outputs": [],
   "source": [
    "!lobi_script run_mriqc.sh 03 {bidsdir} {bidsdir}/derivatives/mriqc"
   ]
  },
  {
   "cell_type": "code",
   "execution_count": null,
   "id": "40df42da-cd1f-4c40-aa47-58d270c91f2c",
   "metadata": {},
   "outputs": [],
   "source": [
    "!tail -n +2 ~/mj_ris.csv | parallel --colsep ',' echo lobi_script run_fmriprep_min.sh {{3}} {bidsdir} {bidsdir}/derivatives/fmriprep\n"
   ]
  }
 ],
 "metadata": {
  "kernelspec": {
   "display_name": "Python [conda env:base] *",
   "language": "python",
   "name": "conda-base-py"
  },
  "language_info": {
   "codemirror_mode": {
    "name": "ipython",
    "version": 3
   },
   "file_extension": ".py",
   "mimetype": "text/x-python",
   "name": "python",
   "nbconvert_exporter": "python",
   "pygments_lexer": "ipython3",
   "version": "3.12.11"
  }
 },
 "nbformat": 4,
 "nbformat_minor": 5
}
