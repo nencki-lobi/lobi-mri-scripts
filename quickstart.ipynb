{
 "cells": [
  {
   "cell_type": "markdown",
   "id": "1f6b562b-c5f6-476d-9bbd-313246c8f55f",
   "metadata": {},
   "source": [
    "# Quickstart Tutorial: Neurodesktop & BIDS Conversion\n",
    "\n",
    "Welcome! This tutorial will guide you through:\n",
    "- Launching Neurodesktop tools\n",
    "- Converting XNAT DICOM data to BIDS format\n",
    "- Running common neuroimaging pipelines (MRIQC, fMRIPrep)\n",
    "\n",
    "In Jupyter click **View - Table of Contents** to open the list of available sections.\n",
    "\n",
    "## Loading necessary packages for tutorial\n",
    "\n",
    "In order to run\n",
    "## Table of Contents\n",
    "- [1️⃣ Intro](#Intro)\n",
    "- [2️⃣ Data Conversion](#Conversion)\n",
    "  - [2.1 Installing xnat_dcm2bids](#Install)\n",
    "  - [2.2 Important Tools & Links](#Tools)\n",
    "  - [2.3 XNAT Connection](#XNAT-Connection)\n",
    "  - [2.4 Downloading Session List](#Download-Sessions)\n",
    "  - [2.5 Preparing BIDS Directory](#Prepare-BIDS)\n",
    "  - [2.6 Config File Setup](#Config)\n",
    "  - [2.7 Converting Sessions](#Convert-Sessions)\n",
    "- [3️⃣ Software & Pipelines](#Software)\n",
    "  - [3.1 MRIQC](#MRIQC)\n",
    "  - [3.2 fMRIPrep](#fMRIPrep)\n",
    "  - [3.3 MATLAB & FSL](#Preinstalled)\n",
    "  - [3.4 Other Programs](#Other-Programs)\n",
    "  "
   ]
  },
  {
   "cell_type": "markdown",
   "id": "a9a8fbe6-fd65-4016-b6ec-7af9bc5bd7bd",
   "metadata": {},
   "source": [
    "## 1️⃣ Intro <a id='Intro'></a>\n",
    "\n",
    "This tutorial will guide you through launching Neurodesktop tools using Jupyter Notebook, however you can also run those tools in Terminal. Just use the commands below without exclamation mark \"❗\"\n",
    "\n",
    "\n",
    "Start by launching Neurodesktop and choosing one of the following:\n",
    "- **Terminal**\n",
    "- **Jupyter Notebook**\n",
    "- **Remote Desktop (Neurodesktop GUI)**\n",
    "\n",
    "In the Neurodesktop GUI you can run MATLAB, FSL, Freeview, and other programs directly. See [Software](#Software) for details."
   ]
  },
  {
   "cell_type": "markdown",
   "id": "18bb23d9-fe0e-4529-9e38-3c9b056b6cea",
   "metadata": {},
   "source": [
    "## 2️⃣ Data Conversion <a id='Conversion'></a>"
   ]
  },
  {
   "cell_type": "markdown",
   "id": "c2241641",
   "metadata": {},
   "source": [
    "### 2.1 Install `xnat_dcm2bids` <a id='Install'></a>\n",
    "\n",
    "You can install this package on MacOS, Windows, or Linux:\n"
   ]
  },
  {
   "cell_type": "code",
   "execution_count": null,
   "id": "8881490f",
   "metadata": {},
   "outputs": [],
   "source": [
    "!pip install --force-reinstall https://github.com/nencki-lobi/xnat_dcm2bids/archive/refs/heads/master.zip > /dev/null 2>&1"
   ]
  },
  {
   "cell_type": "markdown",
   "id": "edec3c43-58b0-4d8c-84fa-148db19cc031",
   "metadata": {},
   "source": [
    "### 2.2 Important Tools & Links <a id='Tools'></a>\n",
    "   - **xnat_dcm2bids** - downloads data from a selected XNAT session (e.g., `f490f566-2124-46`) and converts it to BIDS format using `dcm2bids`:  \n",
    "`xnat_dcm2bids --bids-dir ~/bids-dir --config ./code/config.json f490f566-2124-46 03 01` \n",
    "   - **dcm2bids_scaffold** - prepares a new BIDS directory  \n",
    "     `dcm2bids_scaffold -o /home/jovyan/bids-dir`\n",
    "   - **xnat-get** - downloads all DICOM files from XNAT  \n",
    "     `xnat-get -p mj_ris -t ./sourcedata`\n",
    "   - **xnat_getcsv** - downloads session list to CSV  \n",
    "     `xnat_getcsv mj_ris.csv mj_ris`\n",
    "   - **lobi_script** - run scripts from [lobi-mri-scripts](https://github.com/nencki-lobi/lobi-mri-scripts)  \n",
    "     `lobi_script run_mriqc.sh 03 ~/bids-dir ~/bids-dir/derivatives/mriqc`\n",
    "\n",
    "Find out more in [xnat_dcm2bids repository](https://github.com/nencki-lobi/xnat_dcm2bids)"
   ]
  },
  {
   "cell_type": "markdown",
   "id": "7785a309",
   "metadata": {},
   "source": [
    "### 2.3 Configure XNAT Connection <a id='XNAT-Connection'></a>\n",
    "\n",
    "xnat_dcm2bids tools use specific authentication method. It is neccesarry to initialize the connection for the first time in Terminal - type `xnat-get` and the provide the url \"xnat.nencki.edu.pl\" and Your credentials.\n",
    "Expected output ✅:\n",
    "```\n",
    "ERROR! project_id (\"-p\") must be provided to use empty IDs string\n",
    "```"
   ]
  },
  {
   "cell_type": "markdown",
   "id": "f375ce8a",
   "metadata": {},
   "source": [
    "### 2.4 Download Session List <a id='Download-Sessions'></a>"
   ]
  },
  {
   "cell_type": "code",
   "execution_count": null,
   "id": "0d93f043",
   "metadata": {},
   "outputs": [
    {
     "name": "stdout",
     "output_type": "stream",
     "text": [
      "/home/jovyan\n",
      "🟢 Data saved to mj_ris.csv\n"
     ]
    }
   ],
   "source": [
    "%cd ~\n",
    "!xnat_getcsv mj_ris.csv mj_ris"
   ]
  },
  {
   "cell_type": "code",
   "execution_count": null,
   "id": "11714d27",
   "metadata": {},
   "outputs": [],
   "source": [
    "#display content of \"mj_ris.csv\"\n",
    "import pandas as pd\n",
    "df = pd.read_csv(\"mj_ris.csv\", dtype=str, index_col=0)\n",
    "df.head(10)"
   ]
  },
  {
   "cell_type": "markdown",
   "id": "072839e7",
   "metadata": {},
   "source": [
    "### 2.5 Prepare BIDS Directory <a id='Prepare-BIDS'></a>"
   ]
  },
  {
   "cell_type": "code",
   "execution_count": null,
   "id": "3733f2ec-e79e-4ad5-b190-ae82f5ba8fc8",
   "metadata": {},
   "outputs": [],
   "source": [
    "bidsdir=\"/home/jovyan/bids-dir\""
   ]
  },
  {
   "cell_type": "code",
   "execution_count": null,
   "id": "a64ecf23",
   "metadata": {},
   "outputs": [],
   "source": [
    "!dcm2bids_scaffold -o {bidsdir}"
   ]
  },
  {
   "cell_type": "code",
   "execution_count": null,
   "id": "d3f4ac2f",
   "metadata": {},
   "outputs": [
    {
     "name": "stdout",
     "output_type": "stream",
     "text": [
      "/home/jovyan/bids-dir\n"
     ]
    }
   ],
   "source": [
    "%cd {bidsdir}"
   ]
  },
  {
   "cell_type": "code",
   "execution_count": null,
   "id": "383dfb35",
   "metadata": {},
   "outputs": [
    {
     "name": "stdout",
     "output_type": "stream",
     "text": [
      "CHANGES\n",
      "README\n",
      "code\n",
      "dataset_description.json\n",
      "derivatives\n",
      "participants.json\n",
      "participants.tsv\n",
      "sourcedata\n",
      "sub-03\n",
      "tmp_dcm2bids\n"
     ]
    }
   ],
   "source": [
    "!ls -1 {bidsdir}"
   ]
  },
  {
   "cell_type": "markdown",
   "id": "3281ab12-a797-4af6-aa65-0940f30c615c",
   "metadata": {},
   "source": [
    "### 2.6 Setup Config File <a id='Config'></a>\n",
    "\n",
    "You can either prepare config file on Your own or ask us to provide one. Some examples are available in the [lobi-mri-scripts repository](https://github.com/nencki-lobi/lobi-mri-scripts/tree/main/dcm2bids). If You have already cloned the repository, then You can link one of the configuration files as follows."
   ]
  },
  {
   "cell_type": "code",
   "execution_count": null,
   "id": "212e1dad",
   "metadata": {},
   "outputs": [],
   "source": [
    "!ln -sf ~/lobi-mri-scripts/dcm2bids/mjris.json {bidsdir}/code/config.json"
   ]
  },
  {
   "cell_type": "markdown",
   "id": "feeff2ec",
   "metadata": {},
   "source": [
    "### 2.7 Convert Sessions <a id='Convert-Sessions'></a>\n",
    "\n",
    "**Single session example:**\n",
    "- XNAT session ID: `f490f566-2124-46`\n",
    "- Subject: `03`\n",
    "- Session: `01`\n"
   ]
  },
  {
   "cell_type": "code",
   "execution_count": null,
   "id": "8f184062",
   "metadata": {},
   "outputs": [],
   "source": [
    "!xnat_dcm2bids --bids-dir {bidsdir} --config ./code/config.json f490f566-2124-46 03 01"
   ]
  },
  {
   "cell_type": "markdown",
   "id": "76d0f179",
   "metadata": {},
   "source": [
    "**Multiple sessions from CSV:**\n"
   ]
  },
  {
   "cell_type": "code",
   "execution_count": null,
   "id": "a72f98ec",
   "metadata": {},
   "outputs": [],
   "source": [
    "!while IFS=',' read -r id _ sub ses _; do \\\n",
    "  echo xnat-dcm2bids --config ./code/config.json \"$id\" \"$sub\" 1; \\\n",
    "done < ~/mj_ris.csv"
   ]
  },
  {
   "cell_type": "markdown",
   "id": "67f61766-9862-43b2-b4d7-b0a4c0b42a91",
   "metadata": {},
   "source": [
    "## 3️⃣ Software & Pipelines <a id='Software'></a>"
   ]
  },
  {
   "cell_type": "markdown",
   "id": "e617fc03-5278-4f92-bca8-22f327d35cf3",
   "metadata": {},
   "source": [
    "### 3.1 MRIQC <a id='MRIQC'></a>\n",
    "\n",
    "Run MRIQC for a single subject:\n"
   ]
  },
  {
   "cell_type": "code",
   "execution_count": null,
   "id": "0a0e62df-f105-4e66-9cb8-e19ed876aa0e",
   "metadata": {},
   "outputs": [],
   "source": [
    "!lobi_script run_mriqc.sh 03 {bidsdir} {bidsdir}/derivatives/mriqc"
   ]
  },
  {
   "cell_type": "markdown",
   "id": "aeadbb6e-7f75-4ede-91d4-3e278340206c",
   "metadata": {},
   "source": [
    "### 3.2 fMRIPrep <a id='fMRIPrep'></a>\n",
    "\n",
    "Run fMRIPrep for multiple subjects from CSV:\n"
   ]
  },
  {
   "cell_type": "code",
   "execution_count": null,
   "id": "40df42da-cd1f-4c40-aa47-58d270c91f2c",
   "metadata": {},
   "outputs": [],
   "source": [
    "!tail -n +2 ~/mj_ris.csv | parallel --colsep ',' echo lobi_script run_fmriprep_min.sh {{3}} {bidsdir} {bidsdir}/derivatives/fmriprep"
   ]
  },
  {
   "cell_type": "markdown",
   "id": "04778c65-83e4-4a78-b417-6e9d65a12de3",
   "metadata": {},
   "source": [
    "### 3.3 Preinstalled software <a id='Preinstalled'></a>\n",
    "\n",
    "Graphical tools do not work efficiently via `module load` from Neurodesktop repository. Instead, follow these steps to make it work from local:\n",
    "- **MATLAB**: run in Terminal with `./matlab`\n",
    "- **FSL**: configure first with `source ~/shared_storage/fsl.sh`, then run eg. `fsleyes`"
   ]
  },
  {
   "cell_type": "markdown",
   "id": "21bbbb8e-23f5-405c-a287-68beddaecff2",
   "metadata": {},
   "source": [
    "### 3.4 Other programs \n",
    "\n",
    "Other programs including graphical viewers such as Freeview, mrtrix etc. are not available locally and should be run from Neurodesktop via `module load` or `ml` eg. `ml ants` and in Jupyter as follows:"
   ]
  },
  {
   "cell_type": "code",
   "execution_count": 2,
   "id": "eca66377-47fa-4782-8bf2-cb243c6baf32",
   "metadata": {},
   "outputs": [],
   "source": [
    "import module\n",
    "await module.load('ants')"
   ]
  },
  {
   "cell_type": "code",
   "execution_count": 3,
   "id": "8355759d-0233-49fe-9489-2fc9ae7c6b78",
   "metadata": {
    "scrolled": true
   },
   "outputs": [
    {
     "name": "stdout",
     "output_type": "stream",
     "text": [
      "\n",
      "COMMAND: \n",
      "     antsRegistration\n",
      "          This program is a user-level registration application meant to utilize classes \n",
      "          in ITK v4.0 and later. The user can specify any number of \"stages\" where a stage \n",
      "          consists of a transform; an image metric; and iterations, shrink factors, and \n",
      "          smoothing sigmas for each level. Note that explicitly setting the \n",
      "          dimensionality, metric, transform, output, convergence, shrink-factors, and \n",
      "          smoothing-sigmas parameters is mandatory. \n",
      "\n",
      "OPTIONS: \n",
      "     --version \n",
      "          Get Version Information. \n",
      "\n",
      "     -d, --dimensionality 2/3/4\n",
      "          This option forces the image to be treated as a specified-dimensional image. If \n",
      "          not specified, we try to infer the dimensionality from the input image. \n",
      "\n",
      "     -o, --output outputTransformPrefix\n",
      "                  [outputTransformPrefix,<outputWarpedImage>,<outputInverseWarpedImage>]\n",
      "          Specify the output transform prefix (output format is .nii.gz ). Optionally, one \n",
      "          can choose to warp the moving image to the fixed space and, if the inverse \n",
      "          transform exists, one can also output the warped fixed image. Note that only the \n",
      "          images specified in the first metric call are warped. Use antsApplyTransforms to \n",
      "          warp other images using the resultant transform(s). When a composite transform \n",
      "          is not specified, linear transforms are specified with a '.mat' suffix and \n",
      "          displacement fields with a 'Warp.nii.gz' suffix (and 'InverseWarp.nii.gz', when \n",
      "          applicable. In addition, for velocity-based transforms, the full velocity field \n",
      "          is written to file ('VelocityField.nii.gz') as long as the collapse transforms \n",
      "          flag is turned off ('-z 0'). \n",
      "\n",
      "     -j, --save-state saveStateAsTransform\n",
      "          Specify the output file for the current state of the registration. The state \n",
      "          file is written to an hdf5 composite file. It is specially usefull if we want to \n",
      "          save the current state of a SyN registration to the disk, so we can load and \n",
      "          restore that later to continue the next registration process directly started \n",
      "          from the last saved state. The output file of this flag is the same as the \n",
      "          write-composite-transform, unless the last transform is a SyN transform. In that \n",
      "          case, the inverse displacement field of the SyN transform is also added to the \n",
      "          output composite transform. Again notice that this file cannot be treated as a \n",
      "          transform, and restore-state option must be used to load the written file by \n",
      "          this flag. \n",
      "\n",
      "     -k, --restore-state restoreStateAsATransform\n",
      "          Specify the initial state of the registration which get immediately used to \n",
      "          directly initialize the registration process. The flag is mutually exclusive \n",
      "          with other intialization flags.If this flag is used, none of the \n",
      "          initial-moving-transform and initial-fixed-transform cannot be used. \n",
      "\n",
      "     -a, --write-composite-transform 1/(0)\n",
      "          Boolean specifying whether or not the composite transform (and its inverse, if \n",
      "          it exists) should be written to an hdf5 composite file. This is false by default \n",
      "          so that only the transform for each stage is written to file. \n",
      "          <VALUES>: 0\n",
      "\n",
      "     -p, --print-similarity-measure-interval <unsignedIntegerValue>\n",
      "          Prints out the CC similarity metric measure between the full-size input fixed \n",
      "          and the transformed moving images at each iteration a value of 0 (the default) \n",
      "          indicates that the full scale computation should not take placeany value greater \n",
      "          than 0 represents the interval of full scale metric computation. \n",
      "          <VALUES>: 0\n",
      "\n",
      "     --write-interval-volumes <unsignedIntegerValue>\n",
      "          Writes out the output volume at each iteration. It helps to present the \n",
      "          registration process as a short movie a value of 0 (the default) indicates that \n",
      "          this option should not take placeany value greater than 0 represents the \n",
      "          interval between the iterations which outputs are written to the disk. \n",
      "          <VALUES>: 0\n",
      "\n",
      "     -z, --collapse-output-transforms (1)/0\n",
      "          Collapse output transforms. Specifically, enabling this option combines all \n",
      "          adjacent transforms wherepossible. All adjacent linear transforms are written to \n",
      "          disk in the forman itk affine transform (called xxxGenericAffine.mat). \n",
      "          Similarly, all adjacent displacement field transforms are combined when written \n",
      "          to disk (e.g. xxxWarp.nii.gz and xxxInverseWarp.nii.gz (if available)).Also, an \n",
      "          output composite transform including the collapsed transforms is written to the \n",
      "          disk (called outputCollapsed(Inverse)Composite). \n",
      "          <VALUES>: 1\n",
      "\n",
      "     -i, --initialize-transforms-per-stage (1)/0\n",
      "          Initialize linear transforms from the previous stage. By enabling this option, \n",
      "          the current linear stage transform is directly intialized from the previous \n",
      "          stage's linear transform; this allows multiple linear stages to be run where \n",
      "          each stage directly updates the estimated linear transform from the previous \n",
      "          stage. (e.g. Translation -> Rigid -> Affine). \n",
      "          <VALUES>: 0\n",
      "\n",
      "     -n, --interpolation Linear\n",
      "                         NearestNeighbor\n",
      "                         MultiLabel[<sigma=imageSpacing>,<alpha=4.0>]\n",
      "                         Gaussian[<sigma=imageSpacing>,<alpha=1.0>]\n",
      "                         BSpline[<order=3>]\n",
      "                         CosineWindowedSinc\n",
      "                         WelchWindowedSinc\n",
      "                         HammingWindowedSinc\n",
      "                         LanczosWindowedSinc\n",
      "                         GenericLabel[<interpolator=Linear>]\n",
      "          Several interpolation options are available in ITK. These have all been made \n",
      "          available. Currently the interpolator choice is only used to warp (and possibly \n",
      "          inverse warp) the final output image(s). \n",
      "\n",
      "     -g, --restrict-deformation PxQxR\n",
      "          This option allows the user to restrict the optimization of the displacement \n",
      "          field, translation, rigid or affine transform on a per-component basis. For \n",
      "          example, if one wants to limit the deformation or rotation of 3-D volume to the \n",
      "          first two dimensions, this is possible by specifying a weight vector of '1x1x0' \n",
      "          for a deformation field or '1x1x0x1x1x0' for a rigid transformation. \n",
      "          Low-dimensional restriction only works if there are no preceding \n",
      "          transformations.All stages up to and including the desired stage must have this \n",
      "          option specified,even if they should not be restricted (in which case specify \n",
      "          1x1x1...) \n",
      "\n",
      "     -q, --initial-fixed-transform initialTransform\n",
      "                                   [initialTransform,<useInverse>]\n",
      "                                   [fixedImage,movingImage,initializationFeature]\n",
      "          Specify the initial fixed transform(s) which get immediately incorporated into \n",
      "          the composite transform. The order of the transforms is stack-esque in that the \n",
      "          last transform specified on the command line is the first to be applied. In \n",
      "          addition to initialization with ITK transforms, the user can perform an initial \n",
      "          translation alignment by specifying the fixed and moving images and selecting an \n",
      "          initialization feature. These features include using the geometric center of the \n",
      "          images (=0), the image intensities (=1), or the origin of the images (=2). \n",
      "\n",
      "     -r, --initial-moving-transform initialTransform\n",
      "                                    [initialTransform,<useInverse>]\n",
      "                                    [fixedImage,movingImage,initializationFeature]\n",
      "          Specify the initial moving transform(s) which get immediately incorporated into \n",
      "          the composite transform. The order of the transforms is stack-esque in that the \n",
      "          last transform specified on the command line is the first to be applied. In \n",
      "          addition to initialization with ITK transforms, the user can perform an initial \n",
      "          translation alignment by specifying the fixed and moving images and selecting an \n",
      "          initialization feature. These features include using the geometric center of the \n",
      "          images (=0), the image intensities (=1), or the origin of the images (=2). \n",
      "\n",
      "     -m, --metric CC[fixedImage,movingImage,metricWeight,radius,<samplingStrategy={None,Regular,Random}>,<samplingPercentage=[0,1]>,<useGradientFilter=false>]\n",
      "                  MI[fixedImage,movingImage,metricWeight,numberOfBins,<samplingStrategy={None,Regular,Random}>,<samplingPercentage=[0,1]>,<useGradientFilter=false>]\n",
      "                  Mattes[fixedImage,movingImage,metricWeight,numberOfBins,<samplingStrategy={None,Regular,Random}>,<samplingPercentage=[0,1]>,<useGradientFilter=false>]\n",
      "                  MeanSquares[fixedImage,movingImage,metricWeight,radius=NA,<samplingStrategy={None,Regular,Random}>,<samplingPercentage=[0,1]>,<useGradientFilter=false>]\n",
      "                  Demons[fixedImage,movingImage,metricWeight,radius=NA,<samplingStrategy={None,Regular,Random}>,<samplingPercentage=[0,1]>,<useGradientFilter=false>]\n",
      "                  GC[fixedImage,movingImage,metricWeight,radius=NA,<samplingStrategy={None,Regular,Random}>,<samplingPercentage=[0,1]>,<useGradientFilter=false>]\n",
      "                  ICP[fixedPointSet,movingPointSet,metricWeight,<samplingPercentage=[0,1]>,<boundaryPointsOnly=0>]\n",
      "                  PSE[fixedPointSet,movingPointSet,metricWeight,<samplingPercentage=[0,1]>,<boundaryPointsOnly=0>,<pointSetSigma=1>,<kNeighborhood=50>]\n",
      "                  JHCT[fixedPointSet,movingPointSet,metricWeight,<samplingPercentage=[0,1]>,<boundaryPointsOnly=0>,<pointSetSigma=1>,<kNeighborhood=50>,<alpha=1.1>,<useAnisotropicCovariances=1>]\n",
      "                  IGDM[fixedImage,movingImage,metricWeight,fixedMask,movingMask,<neighborhoodRadius=0x0>,<intensitySigma=0>,<distanceSigma=0>,<kNeighborhood=1>,<gradientSigma=1>]\n",
      "          These image metrics are available--- CC: ANTS neighborhood cross correlation, \n",
      "          MI: Mutual information, Demons: (Thirion), MeanSquares, and GC: Global \n",
      "          Correlation. The \"metricWeight\" variable is used to modulate the per stage \n",
      "          weighting of the metrics. The metrics can also employ a sampling strategy \n",
      "          defined by a sampling percentage. The sampling strategy defaults to 'None' (aka \n",
      "          a dense sampling of one sample per voxel), otherwise it defines a point set over \n",
      "          which to optimize the metric. The point set can be on a regular lattice or a \n",
      "          random lattice of points slightly perturbed to minimize aliasing artifacts. \n",
      "          samplingPercentage defines the fraction of points to select from the domain. \n",
      "          useGradientFilter specifies whether a smoothingfilter is applied when estimating \n",
      "          the metric gradient.In addition, three point set metrics are available: \n",
      "          Euclidean (ICP), Point-set expectation (PSE), and Jensen-Havrda-Charvet-Tsallis \n",
      "          (JHCT). \n",
      "\n",
      "     -t, --transform Rigid[gradientStep]\n",
      "                     Affine[gradientStep]\n",
      "                     CompositeAffine[gradientStep]\n",
      "                     Similarity[gradientStep]\n",
      "                     Translation[gradientStep]\n",
      "                     BSpline[gradientStep,meshSizeAtBaseLevel]\n",
      "                     GaussianDisplacementField[gradientStep,updateFieldVarianceInVoxelSpace,totalFieldVarianceInVoxelSpace]\n",
      "                     BSplineDisplacementField[gradientStep,updateFieldMeshSizeAtBaseLevel,<totalFieldMeshSizeAtBaseLevel=0>,<splineOrder=3>]\n",
      "                     TimeVaryingVelocityField[gradientStep,numberOfTimeIndices,updateFieldVarianceInVoxelSpace,updateFieldTimeVariance,totalFieldVarianceInVoxelSpace,totalFieldTimeVariance]\n",
      "                     TimeVaryingBSplineVelocityField[gradientStep,velocityFieldMeshSize,<numberOfTimePointSamples=4>,<splineOrder=3>]\n",
      "                     SyN[gradientStep,<updateFieldVarianceInVoxelSpace=3>,<totalFieldVarianceInVoxelSpace=0>]\n",
      "                     BSplineSyN[gradientStep,updateFieldMeshSizeAtBaseLevel,<totalFieldMeshSizeAtBaseLevel=0>,<splineOrder=3>]\n",
      "                     Exponential[gradientStep,updateFieldVarianceInVoxelSpace,velocityFieldVarianceInVoxelSpace,<numberOfIntegrationSteps>]\n",
      "                     BSplineExponential[gradientStep,updateFieldMeshSizeAtBaseLevel,<velocityFieldMeshSizeAtBaseLevel=0>,<numberOfIntegrationSteps>,<splineOrder=3>]\n",
      "          Several transform options are available. The gradientStep or learningRate \n",
      "          characterizes the gradient descent optimization and is scaled appropriately for \n",
      "          each transform using the shift scales estimator. Subsequent parameters are \n",
      "          transform-specific and can be determined from the usage. For the B-spline \n",
      "          transforms one can also specify the smoothing in terms of spline distance (i.e. \n",
      "          knot spacing). \n",
      "\n",
      "     -c, --convergence MxNxO\n",
      "                       [MxNxO,<convergenceThreshold=1e-6>,<convergenceWindowSize=10>]\n",
      "          Convergence is determined from the number of iterations per level and is \n",
      "          determined by fitting a line to the normalized energy profile of the last N \n",
      "          iterations (where N is specified by the window size) and determining the slope \n",
      "          which is then compared with the convergence threshold. \n",
      "\n",
      "     -s, --smoothing-sigmas MxNxO...\n",
      "          Specify the sigma of gaussian smoothing at each level. Units are given in terms \n",
      "          of voxels ('vox') or physical spacing ('mm'). Example usage is '4x2x1mm' and \n",
      "          '4x2x1vox' where no units implies voxel spacing. \n",
      "\n",
      "     -f, --shrink-factors MxNxO...\n",
      "          Specify the shrink factor for the virtual domain (typically the fixed image) at \n",
      "          each level. \n",
      "\n",
      "     -u, --use-histogram-matching \n",
      "          Histogram match the images before registration. \n",
      "\n",
      "     -w, --winsorize-image-intensities [lowerQuantile,upperQuantile]\n",
      "          Winsorize data based on specified quantiles. \n",
      "\n",
      "     -x, --masks [fixedImageMask,movingImageMask]\n",
      "          Image masks to limit voxels considered by the metric. Two options are allowed \n",
      "          for mask specification: 1) Either the user specifies a single mask to be used \n",
      "          for all stages or 2) the user specifies a mask for each stage. With the latter \n",
      "          one can select to which stages masks are applied by supplying valid file names. \n",
      "          If the file does not exist, a mask will not be used for that stage. Note that we \n",
      "          handle the fixed and moving masks separately to enforce this constraint. \n",
      "\n",
      "     --float \n",
      "          Use 'float' instead of 'double' for computations. \n",
      "\n",
      "     --minc \n",
      "          Use MINC file formats for transformations. \n",
      "          <VALUES>: 0\n",
      "\n",
      "     --random-seed seedValue\n",
      "          Use a fixed seed for random number generation. By default, the system clock is \n",
      "          used to initialize the seeding. The fixed seed can be any nonzero int value. \n",
      "\n",
      "     -v, --verbose (0)/1\n",
      "          Verbose output. \n",
      "\n",
      "     -h \n",
      "          Print the help menu (short version). \n",
      "\n",
      "     --help \n",
      "          Print the help menu. Will also print values used on the current command line \n",
      "          call. \n",
      "\n"
     ]
    }
   ],
   "source": [
    "!antsRegistration"
   ]
  },
  {
   "cell_type": "code",
   "execution_count": null,
   "id": "1dc5b9c0-54d0-4896-a68e-75dbda2ccf79",
   "metadata": {},
   "outputs": [],
   "source": []
  }
 ],
 "metadata": {
  "kernelspec": {
   "display_name": "Python [conda env:base] *",
   "language": "python",
   "name": "conda-base-py"
  },
  "language_info": {
   "codemirror_mode": {
    "name": "ipython",
    "version": 3
   },
   "file_extension": ".py",
   "mimetype": "text/x-python",
   "name": "python",
   "nbconvert_exporter": "python",
   "pygments_lexer": "ipython3",
   "version": "3.12.11"
  }
 },
 "nbformat": 4,
 "nbformat_minor": 5
}
