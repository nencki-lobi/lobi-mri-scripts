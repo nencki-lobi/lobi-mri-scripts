{
 "cells": [
  {
   "cell_type": "markdown",
   "id": "13b76bb6-3585-4803-b83b-428ccf1c9202",
   "metadata": {},
   "source": [
    "#### Your `subjects.csv` should look like this:\n",
    "\n",
    "```csv\n",
    "MR ID,Subject_ID,subject,session\n",
    "XNAT123,XY25_001,001,01\n",
    "XNAT456,XY25_002,002,01\n",
    "```"
   ]
  },
  {
   "cell_type": "markdown",
   "id": "efd8fa34-4462-4851-ae58-5b0a52096678",
   "metadata": {},
   "source": [
    "#### Running this Notebook is equivalent to execute below commands in Terminal. Choose what suits You more\n",
    "\n",
    "Running `xnat-dcm2bids` for each row in a CSV file:\n",
    "\n",
    "```bash\n",
    "awk -F',' '{print $1, $3, $4}' subjects.csv | while read id sub ses; do \\\n",
    "  xnat-dcm2bids --bids-dir bids-dir --config ./config.json \"$id\" \"$sub\" \"$ses\"; \\\n",
    "done\n",
    "```\n",
    "\n",
    "where column mapping is as below (may be customized)\n",
    "\n",
    "* first column `$1 = MR ID` → used as `id`\n",
    "* third column `$3 = subject` → used as `sub`\n",
    "* fourth column `$4 = session` → used as `ses`\n",
    "\n",
    "Tip: You may skip \"session\" if all Your subjects have the same (ses-01)\n"
   ]
  },
  {
   "cell_type": "code",
   "execution_count": 1,
   "id": "6f87a532-bb27-4b48-9900-874c9167fdbb",
   "metadata": {},
   "outputs": [],
   "source": [
    "#install dependencies:\n",
    "#!pip install https://github.com/nencki-lobi/xnat_dcm2bids/archive/refs/heads/master.zip\n",
    "#!git clone https://github.com/nencki-lobi/lobi-mri-scripts.git ~/lobi-mri-scripts"
   ]
  },
  {
   "cell_type": "code",
   "execution_count": 6,
   "id": "dec9436b-3618-4ccb-a462-8a38043bc549",
   "metadata": {},
   "outputs": [],
   "source": [
    "#define syntax of Your command\n",
    "\n",
    "import pandas as pd\n",
    "\n",
    "def generate_commands(csv_path, command_type, output_file=\"commands.txt\"):\n",
    "#function used to create command templates\n",
    "    df = pd.read_csv(csv_path, dtype=str)\n",
    "    commands = []\n",
    "\n",
    "    for _, row in df.iterrows():\n",
    "        bids_code = row['subject']\n",
    "        xnat_id = row['MR ID']\n",
    "\n",
    "        #here define Your commands\n",
    "        if command_type == \"mriqc\":\n",
    "            cmd = f\"~/lobi-mri-scripts/run_mriqc.sh {bids_code} ~/Data/bids-dir ~/Data/bids-dir/derivatives/mriqc\"\n",
    "        elif command_type == \"xnat-dcm2bids\":\n",
    "            cmd = f\"xnat-dcm2bids {xnat_id} {bids_code} 1\"\n",
    "        if command_type.startswith(\"fmriprep\"):\n",
    "            cmd = f\"~/lobi-mri-scripts/run_{command_type}.sh {bids_code} ~/Data/bids-dir ~/Data/bids-dir/derivatives/fmriprep\"\n",
    "        else:\n",
    "            raise ValueError(\"Unknown command_type. Check commands' definitions\")\n",
    "\n",
    "        # Ensure environment modules (like ml mriqc) are loaded\n",
    "        wrapped_command = (\n",
    "            f'echo \"Running {bids_code}... see logs/{bids_code}.log\" && '\n",
    "            f'bash -l -c \"{cmd}\" > logs/{bids_code}.log 2>&1'\n",
    "        )\n",
    "        commands.append(wrapped_command)\n",
    "\n",
    "    # Save commands to file\n",
    "    with open(output_file, \"w\") as f:\n",
    "        f.write(\"\\n\".join(commands))\n",
    "\n"
   ]
  },
  {
   "cell_type": "code",
   "execution_count": 8,
   "id": "09dbeee6-488f-4ff1-9fff-de153abe0e68",
   "metadata": {},
   "outputs": [],
   "source": [
    "#create batch file\n",
    "\n",
    "generate_commands(\"subjects.csv\", command_type=\"fmriprep_kids_alicja\")"
   ]
  },
  {
   "cell_type": "code",
   "execution_count": 4,
   "id": "828e5a18-66eb-4f9c-ae57-b0420a5e1d03",
   "metadata": {},
   "outputs": [
    {
     "name": "stdout",
     "output_type": "stream",
     "text": [
      "^C\n"
     ]
    }
   ],
   "source": [
    "#execute and save output to ./logs\n",
    "\n",
    "!mkdir -p logs\n",
    "!parallel -j 4 < commands.txt\n",
    "#or without parallelization\n",
    "#!bash commands.txt "
   ]
  },
  {
   "cell_type": "code",
   "execution_count": null,
   "id": "11f51c9f-b77e-4acb-911e-c421211d4a21",
   "metadata": {},
   "outputs": [],
   "source": []
  }
 ],
 "metadata": {
  "kernelspec": {
   "display_name": "Python [conda env:base] *",
   "language": "python",
   "name": "conda-base-py"
  },
  "language_info": {
   "codemirror_mode": {
    "name": "ipython",
    "version": 3
   },
   "file_extension": ".py",
   "mimetype": "text/x-python",
   "name": "python",
   "nbconvert_exporter": "python",
   "pygments_lexer": "ipython3",
   "version": "3.12.11"
  }
 },
 "nbformat": 4,
 "nbformat_minor": 5
}
