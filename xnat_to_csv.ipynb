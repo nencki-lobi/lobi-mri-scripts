{
 "cells": [
  {
   "cell_type": "code",
   "execution_count": null,
   "id": "abd61d19-bb88-4c4b-a5e8-d5538809693c",
   "metadata": {
    "scrolled": true
   },
   "outputs": [],
   "source": [
    "#install dependencies:\n",
    "#!pip install python-dotenv\n",
    "#!pip install pyxnat"
   ]
  },
  {
   "cell_type": "code",
   "execution_count": 33,
   "id": "409350f7-dfbc-4b58-8630-94a02e7c7faf",
   "metadata": {},
   "outputs": [],
   "source": [
    "from pyxnat import Interface\n",
    "from dotenv import load_dotenv\n",
    "import os\n",
    "import csv\n",
    "import re\n",
    "\n",
    "# load xnat credentials from .env file if available\n",
    "# if not available -> \n",
    "load_dotenv()\n",
    "XNAT_URL = os.getenv(\"XNAT_URL\")\n",
    "USERNAME = os.getenv(\"XNAT_USER\")\n",
    "PASSWORD = os.getenv(\"XNAT_PASS\")\n",
    "PROJECT = os.getenv(\"PROJECT\", \"mj_ris\")\n",
    "\n",
    "# initiate the connection; use https:// as a prefix!\n",
    "xnat = Interface(server=XNAT_URL, user=USERNAME, password=PASSWORD)\n",
    "\n",
    "# load all sessions from the selected PROJECT\n",
    "experiments = xnat.select.project(PROJECT).experiments()\n",
    "\n",
    "# save the list to csv file\n",
    "with open('subjects.csv', mode='w', newline='', encoding='utf-8') as file:\n",
    "    writer = csv.writer(file)\n",
    "    writer.writerow(['MR ID', 'Subject_ID', 'subject', 'session'])\n",
    "    \n",
    "    for exp in experiments:\n",
    "        xnat_id = exp.label()\n",
    "        subject = exp.parent()\n",
    "        subject_id = subject.label()\n",
    "        guess_code = re.sub(r'\\D', '', subject_id)\n",
    "        writer.writerow([xnat_id, subject_id, guess_code])\n"
   ]
  },
  {
   "cell_type": "code",
   "execution_count": 34,
   "id": "2ad94a1d-f242-40b4-9c91-3dcf0053ac64",
   "metadata": {},
   "outputs": [],
   "source": [
    "#sort csv file\n",
    "import pandas as pd\n",
    "\n",
    "csv_path = 'subjects.csv'\n",
    "df = pd.read_csv(csv_path, dtype=str)\n",
    "df.sort_values(\"subject\").to_csv(csv_path, index=False)"
   ]
  },
  {
   "cell_type": "code",
   "execution_count": null,
   "id": "dce7e87d-4c96-409b-bbb3-2327801af53c",
   "metadata": {},
   "outputs": [],
   "source": []
  }
 ],
 "metadata": {
  "kernelspec": {
   "display_name": "Python [conda env:base] *",
   "language": "python",
   "name": "conda-base-py"
  },
  "language_info": {
   "codemirror_mode": {
    "name": "ipython",
    "version": 3
   },
   "file_extension": ".py",
   "mimetype": "text/x-python",
   "name": "python",
   "nbconvert_exporter": "python",
   "pygments_lexer": "ipython3",
   "version": "3.12.11"
  }
 },
 "nbformat": 4,
 "nbformat_minor": 5
}
