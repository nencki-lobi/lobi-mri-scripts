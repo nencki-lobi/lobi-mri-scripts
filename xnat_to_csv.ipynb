{
 "cells": [
  {
   "cell_type": "code",
   "execution_count": null,
   "id": "abd61d19-bb88-4c4b-a5e8-d5538809693c",
   "metadata": {
    "scrolled": true
   },
   "outputs": [],
   "source": [
    "#install dependencies:\n",
    "#!pip install python-dotenv\n",
    "#!pip install pyxnat"
   ]
  },
  {
   "cell_type": "code",
   "execution_count": 70,
   "id": "dce7e87d-4c96-409b-bbb3-2327801af53c",
   "metadata": {},
   "outputs": [],
   "source": [
    "from pyxnat import Interface\n",
    "from dotenv import load_dotenv\n",
    "import os\n",
    "import csv\n",
    "import re\n",
    "\n",
    "# Load xnat credentials from .env file\n",
    "load_dotenv()\n",
    "XNAT_URL = os.getenv(\"XNAT_URL\") #use https:// as a prefix for server URL\n",
    "USERNAME = os.getenv(\"XNAT_USER\")\n",
    "PASSWORD = os.getenv(\"XNAT_PASS\")\n",
    "PROJECT = os.getenv(\"PROJECT\", \"mj_ris\")\n",
    "\n",
    "# Initiate the connection; use https:// as a prefix\n",
    "xnat = Interface(server=XNAT_URL, user=USERNAME, password=PASSWORD)\n",
    "\n",
    "# Load all sessions from the selected PROJECT\n",
    "experiments = xnat.select.project(PROJECT).experiments()\n",
    "\n",
    "# Prepare experiment data for sorting\n",
    "experiment_data = []\n",
    "\n",
    "for exp in experiments:\n",
    "    xnat_id = exp.label()\n",
    "    subject = exp.parent()\n",
    "    subject_id = subject.label()\n",
    "    guess_code = re.sub(r'\\D', '', subject_id)\n",
    "    \n",
    "    experiment_data.append((xnat_id, subject_id, guess_code))\n",
    "\n",
    "# Sort the experiment data based on subject_id\n",
    "experiment_data.sort(key=lambda x: x[1])\n",
    "\n",
    "# Save the sorted list to csv file\n",
    "with open('subjects.csv', mode='w', newline='', encoding='utf-8') as file:\n",
    "    writer = csv.writer(file)\n",
    "    writer.writerow(['MR ID', 'Subject_ID', 'subject', 'session'])\n",
    "    \n",
    "    for data in experiment_data:\n",
    "        writer.writerow(data)"
   ]
  },
  {
   "cell_type": "code",
   "execution_count": null,
   "id": "b561a3bc-c243-4e7c-9933-5fee82e3108a",
   "metadata": {},
   "outputs": [],
   "source": []
  }
 ],
 "metadata": {
  "kernelspec": {
   "display_name": "Python [conda env:base] *",
   "language": "python",
   "name": "conda-base-py"
  },
  "language_info": {
   "codemirror_mode": {
    "name": "ipython",
    "version": 3
   },
   "file_extension": ".py",
   "mimetype": "text/x-python",
   "name": "python",
   "nbconvert_exporter": "python",
   "pygments_lexer": "ipython3",
   "version": "3.12.11"
  }
 },
 "nbformat": 4,
 "nbformat_minor": 5
}
